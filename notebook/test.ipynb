{
 "cells": [
  {
   "cell_type": "code",
   "execution_count": 2,
   "metadata": {
    "collapsed": false
   },
   "outputs": [
    {
     "ename": "SyntaxError",
     "evalue": "invalid syntax (<ipython-input-2-ce46de935f17>, line 11)",
     "output_type": "error",
     "traceback": [
      "\u001b[1;36m  File \u001b[1;32m\"<ipython-input-2-ce46de935f17>\"\u001b[1;36m, line \u001b[1;32m11\u001b[0m\n\u001b[1;33m    print 'A.__del__() is called'\u001b[0m\n\u001b[1;37m        ^\u001b[0m\n\u001b[1;31mSyntaxError\u001b[0m\u001b[1;31m:\u001b[0m invalid syntax\n"
     ]
    }
   ],
   "source": [
    "import inspect\n",
    "\n",
    "class A(object):\n",
    "    def __init__(self):\n",
    "        print 'A.__init__() is called'\n",
    "    def a1(self, x):\n",
    "        print 'A.a1() is called', x\n",
    "    def a2(self):\n",
    "        print 'A.a2() is called'\n",
    "    def __del__(self):\n",
    "        print 'A.__del__() is called'\n",
    "\n",
    "class B(object):\n",
    "    def __init__(self):\n",
    "        print 'B.__init__() is call'\n",
    "        self.__a = A()\n",
    "        for name, method in inspect.getmembers(self.__a, predicate=inspect.ismethod):\n",
    "            if name[0] <> '_':\n",
    "                setattr(self, name, method)\n",
    "                print name\n",
    "    def __del__(self):\n",
    "        print 'B.__del__() is called'\n",
    "        self.__a = None\n",
    "\n",
    "b = B()\n",
    "b.a1('123')\n",
    "b.a2()\n",
    "b = None"
   ]
  }
 ],
 "metadata": {
  "kernelspec": {
   "display_name": "Django Shell-Plus",
   "language": "python",
   "name": "django_extensions"
  },
  "language_info": {
   "codemirror_mode": {
    "name": "ipython",
    "version": 2
   },
   "file_extension": ".py",
   "mimetype": "text/x-python",
   "name": "python",
   "nbconvert_exporter": "python",
   "pygments_lexer": "ipython2",
   "version": "2.7.6"
  }
 },
 "nbformat": 4,
 "nbformat_minor": 0
}
