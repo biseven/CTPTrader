{
 "cells": [
  {
   "cell_type": "code",
   "execution_count": 1,
   "metadata": {
    "collapsed": true
   },
   "outputs": [],
   "source": [
    "# 读取环境变量\n",
    "import os\n",
    "frontAddress = os.environ.get('CTP_FRONT_ADDRESS')\n",
    "mdFrontAddress = os.environ.get('CTP_MD_FRONT_ADDRESS')\n",
    "brokerID = os.environ.get('CTP_BROKER_ID')\n",
    "userID = os.environ.get('CTP_USER_ID')\n",
    "password = os.environ.get('CTP_PASSWORD')\n",
    "assert frontAddress and mdFrontAddress and brokerID and userID and password"
   ]
  },
  {
   "cell_type": "code",
   "execution_count": 13,
   "metadata": {
    "collapsed": false
   },
   "outputs": [
    {
     "ename": "Exception",
     "evalue": "无法建立ctp连接,请查看ctp转换器的日志",
     "output_type": "error",
     "traceback": [
      "\u001b[1;31m---------------------------------------------------------------------------\u001b[0m",
      "\u001b[1;31mException\u001b[0m                                 Traceback (most recent call last)",
      "\u001b[1;32m<ipython-input-13-0e43403f202c>\u001b[0m in \u001b[0;36m<module>\u001b[1;34m()\u001b[0m\n\u001b[0;32m      9\u001b[0m         \u001b[0mflag\u001b[0m\u001b[1;33m.\u001b[0m\u001b[0mappend\u001b[0m\u001b[1;33m(\u001b[0m\u001b[1;36m1\u001b[0m\u001b[1;33m)\u001b[0m\u001b[1;33m\u001b[0m\u001b[0m\n\u001b[0;32m     10\u001b[0m \u001b[1;33m\u001b[0m\u001b[0m\n\u001b[1;32m---> 11\u001b[1;33m \u001b[0mtrader\u001b[0m \u001b[1;33m=\u001b[0m \u001b[0mTrader\u001b[0m\u001b[1;33m(\u001b[0m\u001b[0mfrontAddress\u001b[0m\u001b[1;33m,\u001b[0m\u001b[0mbrokerID\u001b[0m\u001b[1;33m,\u001b[0m\u001b[0muserID\u001b[0m\u001b[1;33m,\u001b[0m\u001b[0mpassword\u001b[0m\u001b[1;33m)\u001b[0m\u001b[1;33m\u001b[0m\u001b[0m\n\u001b[0m\u001b[0;32m     12\u001b[0m \u001b[0mtrader\u001b[0m\u001b[1;33m.\u001b[0m\u001b[0mbind\u001b[0m\u001b[1;33m(\u001b[0m\u001b[0mcallback\u001b[0m\u001b[1;33m.\u001b[0m\u001b[0mOnRspQryInvestorPosition\u001b[0m\u001b[1;33m,\u001b[0m\u001b[0mOnRspQryInvestorPosition\u001b[0m\u001b[1;33m)\u001b[0m\u001b[1;33m\u001b[0m\u001b[0m\n\u001b[0;32m     13\u001b[0m \u001b[0mdata\u001b[0m \u001b[1;33m=\u001b[0m \u001b[0mstruct\u001b[0m\u001b[1;33m.\u001b[0m\u001b[0mCThostFtdcQryInvestorPositionField\u001b[0m\u001b[1;33m(\u001b[0m\u001b[1;33m)\u001b[0m\u001b[1;33m\u001b[0m\u001b[0m\n",
      "\u001b[1;32m/usr/local/lib/python2.7/dist-packages/pyctp/CTPTrader.py\u001b[0m in \u001b[0;36m__init__\u001b[1;34m(self, frontAddress, brokerID, userID, password, timeout, converterQueryInterval)\u001b[0m\n\u001b[0;32m    322\u001b[0m         \u001b[1;32mif\u001b[0m \u001b[1;32mnot\u001b[0m \u001b[0mself\u001b[0m\u001b[1;33m.\u001b[0m\u001b[0m__testChannel\u001b[0m\u001b[1;33m(\u001b[0m\u001b[1;33m)\u001b[0m\u001b[1;33m:\u001b[0m\u001b[1;33m\u001b[0m\u001b[0m\n\u001b[0;32m    323\u001b[0m             \u001b[0mself\u001b[0m\u001b[1;33m.\u001b[0m\u001b[0m__clean__\u001b[0m\u001b[1;33m(\u001b[0m\u001b[1;33m)\u001b[0m\u001b[1;33m\u001b[0m\u001b[0m\n\u001b[1;32m--> 324\u001b[1;33m             \u001b[1;32mraise\u001b[0m \u001b[0mException\u001b[0m\u001b[1;33m(\u001b[0m\u001b[1;34mu'无法建立ctp连接,请查看ctp转换器的日志'\u001b[0m\u001b[1;33m)\u001b[0m\u001b[1;33m\u001b[0m\u001b[0m\n\u001b[0m\u001b[0;32m    325\u001b[0m \u001b[1;33m\u001b[0m\u001b[0m\n\u001b[0;32m    326\u001b[0m \u001b[1;33m\u001b[0m\u001b[0m\n",
      "\u001b[1;31m<type 'str'>\u001b[0m: (<type 'exceptions.UnicodeEncodeError'>, UnicodeEncodeError('ascii', u'\\u65e0\\u6cd5\\u5efa\\u7acbctp\\u8fde\\u63a5,\\u8bf7\\u67e5\\u770bctp\\u8f6c\\u6362\\u5668\\u7684\\u65e5\\u5fd7', 0, 4, 'ordinal not in range(128)'))"
     ]
    }
   ],
   "source": [
    "from pyctp import Trader,Md,struct,callback\n",
    "from time import sleep\n",
    "from pandas import DataFrame\n",
    "result = []\n",
    "flag = []\n",
    "def OnRspQryInvestorPosition(**kwargs):\n",
    "    result.append(kwargs['Data'])\n",
    "    if kwargs['IsLast'] == True:\n",
    "        flag.append(1)\n",
    "\n",
    "trader = Trader(frontAddress,brokerID,userID,password)\n",
    "trader.bind(callback.OnRspQryInvestorPosition,OnRspQryInvestorPosition)\n",
    "data = struct.CThostFtdcQryInvestorPositionField()\n",
    "trader.ReqQryInvestorPosition(data)\n",
    "while len(flag) == 0: sleep(.01)\n",
    "DataFrame(result)[['InstrumentID','CloseVolume','OpenVolume','Position','CloseProfit','PositionProfit','Commission']]"
   ]
  },
  {
   "cell_type": "code",
   "execution_count": null,
   "metadata": {
    "collapsed": true
   },
   "outputs": [],
   "source": []
  }
 ],
 "metadata": {
  "kernelspec": {
   "display_name": "Python 2",
   "language": "python",
   "name": "python2"
  },
  "language_info": {
   "codemirror_mode": {
    "name": "ipython",
    "version": 2
   },
   "file_extension": ".py",
   "mimetype": "text/x-python",
   "name": "python",
   "nbconvert_exporter": "python",
   "pygments_lexer": "ipython2",
   "version": "2.7.6"
  }
 },
 "nbformat": 4,
 "nbformat_minor": 0
}
